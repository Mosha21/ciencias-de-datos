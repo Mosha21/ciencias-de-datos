{
 "cells": [
  {
   "cell_type": "code",
   "execution_count": null,
   "metadata": {
    "id": "ra4fMESINtm-"
   },
   "outputs": [],
   "source": [
    "%%capture\n",
    "!wget https://raw.githubusercontent.com/DRMiguelAR/Herramientas_Analisis/master/atp_matches_2017.csv\n",
    "!wget https://raw.githubusercontent.com/DRMiguelAR/Herramientas_Analisis/master/atp_matches_2016.csv\n",
    "!wget https://raw.githubusercontent.com/DRMiguelAR/Herramientas_Analisis/master/atp_matches_2015.csv\n",
    "!wget https://raw.githubusercontent.com/DRMiguelAR/Herramientas_Analisis/master/atp_matches_2014.csv\n",
    "!wget https://raw.githubusercontent.com/DRMiguelAR/Herramientas_Analisis/master/atp_matches_2013.csv\n",
    "!wget https://raw.githubusercontent.com/DRMiguelAR/Herramientas_Analisis/master/atp_matches_2012.csv"
   ]
  },
  {
   "cell_type": "markdown",
   "metadata": {
    "id": "nlXTuRc-crZk"
   },
   "source": [
    "# Integrantes del equipo:\n",
    "\n",
    "Contesta las siguientes preguntas, __sin__ utilizar la librería Pandas.\n",
    "\n",
    "- Nombre 1  \n",
    "- Nombre 2"
   ]
  },
  {
   "cell_type": "markdown",
   "metadata": {
    "id": "36Dr91FYR665"
   },
   "source": [
    "# Manejo de datos\n",
    "- Extrae las categorías del archivo.\n"
   ]
  },
  {
   "cell_type": "code",
   "execution_count": null,
   "metadata": {
    "id": "v1c5u-dnS7qV"
   },
   "outputs": [],
   "source": [
    "# categorías\n",
    "\n"
   ]
  },
  {
   "cell_type": "code",
   "execution_count": null,
   "metadata": {
    "id": "B2YC235WiVXr"
   },
   "outputs": [],
   "source": []
  },
  {
   "cell_type": "markdown",
   "metadata": {
    "id": "wRZmG5RyS5pM"
   },
   "source": [
    "- Crea una lista con cada partido, donde los datos de cada partido sean un diccionario. Con las categorías como llave y el valor como el contenido.\n"
   ]
  },
  {
   "cell_type": "code",
   "execution_count": null,
   "metadata": {
    "id": "OxualnL4TCxp"
   },
   "outputs": [],
   "source": [
    "# partidos"
   ]
  },
  {
   "cell_type": "markdown",
   "metadata": {
    "id": "g6CjfgXFTFCm"
   },
   "source": [
    "# Filtrado de datos\n",
    "- Haz un conjunto de todos los nombres de ganadores de partidos.\n"
   ]
  },
  {
   "cell_type": "code",
   "execution_count": null,
   "metadata": {
    "id": "UVHDrofrTHpm"
   },
   "outputs": [],
   "source": [
    "# ganadores"
   ]
  },
  {
   "cell_type": "markdown",
   "metadata": {
    "id": "MhOuV9WJTJNo"
   },
   "source": [
    "- Haz un conjunto de todos los nombres de perdedores de partidos.\n"
   ]
  },
  {
   "cell_type": "code",
   "execution_count": null,
   "metadata": {
    "id": "Uw_3hOHbS9Ny"
   },
   "outputs": [],
   "source": [
    "# perdedores"
   ]
  },
  {
   "cell_type": "markdown",
   "metadata": {
    "id": "z7g0YjDiTO58"
   },
   "source": [
    "- Enlista qué jugadores no han perdido ningún partido. "
   ]
  },
  {
   "cell_type": "code",
   "execution_count": null,
   "metadata": {
    "id": "vzmMVBJWTRBQ"
   },
   "outputs": [],
   "source": [
    "# no han perdido"
   ]
  },
  {
   "cell_type": "markdown",
   "metadata": {
    "id": "JzO4SdAYTUjv"
   },
   "source": [
    "- ¿Cuántos jugadores no han perdido ningún partido?\n"
   ]
  },
  {
   "cell_type": "code",
   "execution_count": null,
   "metadata": {
    "id": "EK-hgq20TOV1"
   },
   "outputs": [],
   "source": [
    "# número de jugadores que no han perdido"
   ]
  },
  {
   "cell_type": "markdown",
   "metadata": {
    "id": "kCDeltsgTgN-"
   },
   "source": [
    "- Enlista qué jugadores no han ganado ningún partido."
   ]
  },
  {
   "cell_type": "code",
   "execution_count": null,
   "metadata": {
    "id": "4NM_CZ15T0Gg"
   },
   "outputs": [],
   "source": [
    "# no han ganado"
   ]
  },
  {
   "cell_type": "markdown",
   "metadata": {
    "id": "SJlghWnjT3lQ"
   },
   "source": [
    "- ¿Cuántos jugadores no han ganado ningún partido?"
   ]
  },
  {
   "cell_type": "code",
   "execution_count": null,
   "metadata": {
    "id": "n-t9V2roT6-f"
   },
   "outputs": [],
   "source": [
    "# número de jugadores que no han ganado"
   ]
  },
  {
   "cell_type": "markdown",
   "metadata": {
    "id": "OdNB-XhIVnqR"
   },
   "source": [
    "- Haz una lista diciendo cuántos partidos ha ganado cada jugador."
   ]
  },
  {
   "cell_type": "code",
   "execution_count": null,
   "metadata": {
    "id": "iQsh-8efUBiF"
   },
   "outputs": [],
   "source": [
    "# cantidad de partidos ganados por jugador"
   ]
  },
  {
   "cell_type": "markdown",
   "metadata": {
    "id": "IWNKt6JbVxYG"
   },
   "source": [
    "- Haz una lista diciendo cuántos partidos ha perdido cada jugador"
   ]
  },
  {
   "cell_type": "code",
   "execution_count": null,
   "metadata": {
    "id": "ptQPlWTpVsKK"
   },
   "outputs": [],
   "source": [
    "# cantidad de partidos perdidos por jugador"
   ]
  },
  {
   "cell_type": "markdown",
   "metadata": {
    "id": "QE6j2askV1P1"
   },
   "source": [
    "- Obtén el jugador con más partidos ganados."
   ]
  },
  {
   "cell_type": "code",
   "execution_count": null,
   "metadata": {
    "id": "KfJ_GfGjVv6w"
   },
   "outputs": [],
   "source": [
    "# jugador con más partidos ganados"
   ]
  },
  {
   "cell_type": "markdown",
   "metadata": {
    "id": "Es8nGDBiWR1W"
   },
   "source": [
    "- Obtén el jugador con más partidos perdidos"
   ]
  },
  {
   "cell_type": "code",
   "execution_count": null,
   "metadata": {
    "id": "VfEfyic5WVC3"
   },
   "outputs": [],
   "source": [
    "# jugador con más partidos perdidos"
   ]
  },
  {
   "cell_type": "markdown",
   "metadata": {
    "id": "OlpdUo7sX080"
   },
   "source": [
    "- Obtén todos los jugadores que hayan llegado a semifinales"
   ]
  },
  {
   "cell_type": "code",
   "execution_count": null,
   "metadata": {
    "id": "NHllRgy7X5i2"
   },
   "outputs": [],
   "source": [
    "# Semifinalistas"
   ]
  },
  {
   "cell_type": "markdown",
   "metadata": {
    "id": "dXNj3tlJX-QY"
   },
   "source": [
    "- Obtén todos los jugadores que hayan ganado una final."
   ]
  },
  {
   "cell_type": "code",
   "execution_count": null,
   "metadata": {
    "id": "OiHThCotX73y"
   },
   "outputs": [],
   "source": [
    "# Campeones"
   ]
  },
  {
   "cell_type": "markdown",
   "metadata": {
    "id": "kicfyiVeYLNC"
   },
   "source": [
    "-"
   ]
  },
  {
   "cell_type": "markdown",
   "metadata": {
    "id": "jPi8L2zQWfEP"
   },
   "source": [
    "# Ordenamiento\n",
    "- Obtén los 10 jugadores con más partidos ganados y especifica cuántos partidos ganaron."
   ]
  },
  {
   "cell_type": "code",
   "execution_count": null,
   "metadata": {
    "id": "0pafH548W3Me"
   },
   "outputs": [],
   "source": [
    "# top 10"
   ]
  },
  {
   "cell_type": "markdown",
   "metadata": {
    "id": "bbQkb21MW6d4"
   },
   "source": [
    "- Obtén los 10 jugadores con más partidos perdidos y especifica cuántos partidos perdieron."
   ]
  },
  {
   "cell_type": "code",
   "execution_count": null,
   "metadata": {
    "id": "3vUqT7l-W4xf"
   },
   "outputs": [],
   "source": [
    "# top 10"
   ]
  },
  {
   "cell_type": "markdown",
   "metadata": {
    "id": "sK7yV22jaBIi"
   },
   "source": [
    "- Obtén una lista con los tipos de canchas que existen (pasto, arcilla, etc)"
   ]
  },
  {
   "cell_type": "code",
   "execution_count": null,
   "metadata": {
    "id": "kOxmDNmwXCaL"
   },
   "outputs": [],
   "source": [
    "# Tipos de canchas"
   ]
  },
  {
   "cell_type": "markdown",
   "metadata": {
    "id": "JzNp_EWhbFw-"
   },
   "source": [
    "- Para cada tipo de cancha: Obtén una lista con los tres jugadores con más finales ganadas, y la cantidad de finales ganadas."
   ]
  },
  {
   "cell_type": "code",
   "execution_count": null,
   "metadata": {
    "id": "DvARsQ8zcQnA"
   },
   "outputs": [],
   "source": []
  },
  {
   "cell_type": "markdown",
   "metadata": {
    "id": "YFy8jn5AbOMv"
   },
   "source": [
    "# Pregunta ¿Quién fue el mejor jugador de la ATP de 2012 a 2017?"
   ]
  },
  {
   "cell_type": "code",
   "execution_count": null,
   "metadata": {
    "id": "iIygOPY7bJke"
   },
   "outputs": [],
   "source": []
  }
 ],
 "metadata": {
  "colab": {
   "collapsed_sections": [],
   "name": "ECID- Herramientas para el análisis de Datos 2022-1: 02- Ejercicio 02: Manejo de datos en Python",
   "provenance": []
  },
  "kernelspec": {
   "display_name": "Python 3 (ipykernel)",
   "language": "python",
   "name": "python3"
  },
  "language_info": {
   "codemirror_mode": {
    "name": "ipython",
    "version": 3
   },
   "file_extension": ".py",
   "mimetype": "text/x-python",
   "name": "python",
   "nbconvert_exporter": "python",
   "pygments_lexer": "ipython3",
   "version": "3.9.5"
  }
 },
 "nbformat": 4,
 "nbformat_minor": 1
}
