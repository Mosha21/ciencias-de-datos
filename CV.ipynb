{
 "cells": [
  {
   "cell_type": "markdown",
   "id": "6f970b1e",
   "metadata": {},
   "source": [
    "# Bernardo Moya\n",
    "## Education\n",
    "### Bachel: \n",
    "Universidad Panamericana - Bachelor of Science in Computer Graphics and Systems Engineering\n",
    "## Experience:\n",
    "### Avnet (February 2020 - Present) Zapopan, Jalisco\n",
    "**Application Developer**\n",
    "\n",
    "Part of the ”Avnet Automated” team, focused on automating and optimizing internal\n",
    "processes. I’m working in a project that automates the log of client’s purchase orders\n",
    "by recognizing images and using bots to log it in the system. I am in the first part of\n",
    "recognition, using ABBYY’s OCR tools for the mapping, extracting and processing of\n",
    "the critical information inside purchase orders.\n",
    "### Philip Morris International (March 2019 - Sept. 2019) Zapopan, Jalisco\n",
    "**Process Automatization Technician**\n",
    "\n",
    "In charge of automating reports in Finance Department through Power Bi’s AI for\n",
    "database recompilation and graphication. I helped with technical questions of Power\n",
    "Bi and design of reports, team dashboards and a course using this technology, focused on the same department.\n",
    "### Inmateriis (Sept. 2018 - March 2019) Zapopan, Jalisco\n",
    "**Backend Junior Developer**\n",
    "\n",
    "Developed an internal web application to track everything that is done for making a\n",
    "3D piece, from selling to manufacturing and finally storage, to be applied in the future\n",
    "to the same business or for prosthesis for medic clinics. Used Django for backend.\n",
    "### Blancrooms (May 2018 - Sept. 2018) Zapopan, Jalisco\n",
    "**Backend Junior Developer**\n",
    "\n",
    "In charge of developing an interactive jewelry web site. Used Node js, Mongodb,\n",
    "express, Paypal and started using basics of React.\n",
    "Coophi (January 2018 - May 2018) Zapopan, Jalisco\n",
    "Backend Junior Developer\n",
    "Helped by developing backend controllers using Node js and Mongodb for a Project\n",
    "Management app.\n",
    "\n",
    "## Programming\n",
    "- git - 1 year\n",
    "- React - 6 months\n",
    "- NodeJs - 9 months\n",
    "- HTML5 - 3 months\n",
    "- CSS - 3 months\n",
    "- Django - 6 months\n",
    "- Python - 1 year\n",
    "- C# - 1 year\n",
    "- Java - 1 year\n",
    "- C/C++ - 1 year\n",
    "\n",
    "## Tools\n",
    "- SCRUM\n",
    "- ABBYY\n",
    "- Power Bi\n",
    "- MySQL Workbench\n",
    "- Postman\n",
    "- Robo 3T\n",
    "- Unity"
   ]
  }
 ],
 "metadata": {
  "kernelspec": {
   "display_name": "Python 3 (ipykernel)",
   "language": "python",
   "name": "python3"
  },
  "language_info": {
   "codemirror_mode": {
    "name": "ipython",
    "version": 3
   },
   "file_extension": ".py",
   "mimetype": "text/x-python",
   "name": "python",
   "nbconvert_exporter": "python",
   "pygments_lexer": "ipython3",
   "version": "3.9.5"
  }
 },
 "nbformat": 4,
 "nbformat_minor": 5
}
